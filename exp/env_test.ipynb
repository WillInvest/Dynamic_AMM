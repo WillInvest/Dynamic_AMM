{
 "cells": [
  {
   "cell_type": "code",
   "execution_count": 1,
   "metadata": {},
   "outputs": [
    {
     "name": "stderr",
     "output_type": "stream",
     "text": [
      "2024-09-24 17:11:37.137968: I tensorflow/core/platform/cpu_feature_guard.cc:182] This TensorFlow binary is optimized to use available CPU instructions in performance-critical operations.\n",
      "To enable the following instructions: SSE4.1 SSE4.2 AVX AVX2 AVX_VNNI FMA, in other operations, rebuild TensorFlow with the appropriate compiler flags.\n"
     ]
    }
   ],
   "source": [
    "import os\n",
    "import sys\n",
    "# add /home/shiftpub/AMM-Python as a path\n",
    "sys.path.append(os.path.join(os.getcwd(), '..'))\n",
    "from env.new_amm import AMM\n",
    "from env.market import MarketSimulator\n",
    "from env.amm_env import DynamicAMM\n"
   ]
  },
  {
   "cell_type": "code",
   "execution_count": null,
   "metadata": {},
   "outputs": [],
   "source": [
    "import matplotlib.pyplot as plt\n",
    "import numpy as np\n",
    "from collections import deque\n",
    "from concurrent.futures import ProcessPoolExecutor, as_completed\n",
    "from tqdm import tqdm\n",
    "from sklearn.linear_model import LinearRegression\n",
    "\n",
    "def run_simulation_for_sigma(set_sigma, num_runs=300):\n",
    "    annualized_sigmas = []\n",
    "\n",
    "    for _ in tqdm(range(num_runs), desc=f\"Set Sigma: {set_sigma}\", leave=False):\n",
    "        market = MarketSimulator(sigma=set_sigma)\n",
    "        amm = AMM(fee=0.0005)\n",
    "        mkt_mid = deque(maxlen=1000)\n",
    "        log_returns = deque(maxlen=999)\n",
    "\n",
    "        sum_log_returns = 0\n",
    "        sum_log_returns_sq = 0\n",
    "        window_size = 999\n",
    "        sigma_values = []\n",
    "\n",
    "        for _ in range(market.steps):\n",
    "            mkt_ask = market.get_ask_price('A')\n",
    "            mkt_bid = market.get_bid_price('B')\n",
    "            mid_price = (mkt_ask + mkt_bid) / 2\n",
    "\n",
    "            if len(mkt_mid) > 0:\n",
    "                last_price = mkt_mid[-1]\n",
    "                log_return = np.log(mid_price / last_price)\n",
    "\n",
    "                sum_log_returns += log_return\n",
    "                sum_log_returns_sq += log_return ** 2\n",
    "\n",
    "                log_returns.append(log_return)\n",
    "\n",
    "                if len(log_returns) == window_size:\n",
    "                    oldest_return = log_returns[0]\n",
    "                    sum_log_returns -= oldest_return\n",
    "                    sum_log_returns_sq -= oldest_return ** 2\n",
    "\n",
    "            mkt_mid.append(mid_price)\n",
    "\n",
    "            if len(mkt_mid) == 1000:\n",
    "                mean_log_return = sum_log_returns / window_size\n",
    "                variance = (sum_log_returns_sq / window_size) - (mean_log_return ** 2)\n",
    "                current_sigma = np.sqrt(variance)\n",
    "                sigma_values.append(current_sigma)\n",
    "\n",
    "            market.next()\n",
    "\n",
    "        sigma_mean = np.mean(sigma_values)\n",
    "        annualized_sigma = sigma_mean * np.sqrt(252 * 6.5 * 60)\n",
    "        annualized_sigmas.append(annualized_sigma)\n",
    "\n",
    "    return set_sigma, annualized_sigmas\n",
    "\n",
    "def collect_data_for_sigmas(sigma_values):\n",
    "    boxplot_data = {}\n",
    "    sigma_means = {}\n",
    "    with ProcessPoolExecutor() as executor:\n",
    "        futures = {executor.submit(run_simulation_for_sigma, sigma): sigma for sigma in sigma_values}\n",
    "\n",
    "        for future in as_completed(futures):\n",
    "            sigma, annualized_sigmas = future.result()\n",
    "            boxplot_data[sigma] = annualized_sigmas\n",
    "            sigma_means[sigma] = np.mean(annualized_sigmas)\n",
    "\n",
    "    return boxplot_data, sigma_means\n",
    "\n",
    "# Define the sigma values to set\n",
    "sigma_values = np.round(np.arange(0.05, 0.36, 0.01), 3)\n",
    "\n",
    "# Collect data for all sigma values using parallel processing\n",
    "boxplot_data, sigma_means = collect_data_for_sigmas(sigma_values)\n",
    "\n",
    "# Prepare data for the boxplot\n",
    "data = [boxplot_data[sigma] for sigma in sigma_values]\n",
    "\n",
    "# Plotting the boxplot\n",
    "plt.figure(figsize=(15, 8))\n",
    "plt.boxplot(data, labels=[f'{s:.2f}' for s in sigma_values])\n",
    "plt.title(\"Boxplot of Annualized Sigma Values for Different Set Sigmas\", fontsize=16)\n",
    "plt.xlabel(\"Set Sigma\", fontsize=14)\n",
    "plt.ylabel(\"Annualized Sigma (Volatility)\", fontsize=14)\n",
    "plt.grid(True)\n",
    "plt.savefig(\"sigma-boxplot.png\")\n",
    "plt.show()\n",
    "\n",
    "# Prepare data for linear regression\n",
    "set_sigma_array = np.array(list(sigma_means.keys())).reshape(-1, 1)\n",
    "mean_annualized_sigma_array = np.array(list(sigma_means.values())).reshape(-1, 1)\n",
    "\n",
    "# Fit the linear regression model\n",
    "model = LinearRegression()\n",
    "model.fit(set_sigma_array, mean_annualized_sigma_array)\n",
    "\n",
    "# Extract the coefficient and intercept\n",
    "coefficient = model.coef_[0][0]\n",
    "intercept = model.intercept_[0]\n",
    "\n",
    "# Predict the values and calculate R-squared\n",
    "predicted_annualized_sigma = model.predict(set_sigma_array)\n",
    "r_squared = model.score(set_sigma_array, mean_annualized_sigma_array)\n",
    "\n",
    "# Plot the linear regression\n",
    "plt.figure(figsize=(10, 6))\n",
    "plt.scatter(set_sigma_array, mean_annualized_sigma_array, color='blue', label='Mean Annualized Sigma')\n",
    "plt.plot(set_sigma_array, predicted_annualized_sigma, color='red', linewidth=2, label=f'Linear Fit (R² = {r_squared:.4f})\\nCoef: {coefficient:.4f}, Intercept: {intercept:.4f}')\n",
    "plt.title(\"Linear Regression of Set Sigma vs Mean Annualized Sigma\", fontsize=16)\n",
    "plt.xlabel(\"Set Sigma\", fontsize=14)\n",
    "plt.ylabel(\"Mean Annualized Sigma\", fontsize=14)\n",
    "plt.grid(True)\n",
    "plt.legend()\n",
    "plt.savefig(\"linear-regression-sigma.png\")\n",
    "plt.show()\n"
   ]
  },
  {
   "cell_type": "code",
   "execution_count": 2,
   "metadata": {},
   "outputs": [
    {
     "name": "stdout",
     "output_type": "stream",
     "text": [
      "Loaded trader with competition level of 0.05\n",
      "Loaded trader with competition level of 0.10\n",
      "Loaded trader with competition level of 0.15\n",
      "Loaded trader with competition level of 0.20\n",
      "Loaded trader with competition level of 0.25\n",
      "Loaded trader with competition level of 0.30\n",
      "Loaded trader with competition level of 0.35\n",
      "Loaded trader with competition level of 0.40\n",
      "Loaded trader with competition level of 0.45\n",
      "Loaded trader with competition level of 0.50\n",
      "Loaded trader with competition level of 0.55\n",
      "Loaded trader with competition level of 0.60\n",
      "Loaded trader with competition level of 0.65\n",
      "Loaded trader with competition level of 0.70\n",
      "Loaded trader with competition level of 0.75\n",
      "Loaded trader with competition level of 0.80\n",
      "Loaded trader with competition level of 0.85\n",
      "Loaded trader with competition level of 0.90\n",
      "Loaded trader with competition level of 0.95\n",
      "Loaded trader with competition level of 1.00\n",
      "[1.0000004 0.9999996 1.        1.       ]\n"
     ]
    }
   ],
   "source": [
    "amm = AMM()\n",
    "market = MarketSimulator()\n",
    "trader_dir = '/home/shiftpub/AMM-Python/models/trader_model'\n",
    "env = DynamicAMM(amm=amm, market=market, trader_dir=trader_dir)\n",
    "\n",
    "obs, _ = env.reset()\n",
    "print(obs)"
   ]
  },
  {
   "cell_type": "code",
   "execution_count": 3,
   "metadata": {},
   "outputs": [
    {
     "name": "stdout",
     "output_type": "stream",
     "text": [
      "[0.00343199]\n"
     ]
    }
   ],
   "source": [
    "sample_action = env.action_space.sample()\n",
    "print(sample_action)"
   ]
  },
  {
   "cell_type": "code",
   "execution_count": 6,
   "metadata": {},
   "outputs": [
    {
     "name": "stdout",
     "output_type": "stream",
     "text": [
      "obs: [1.000294  1.0002931 1.        1.       ]\n"
     ]
    }
   ],
   "source": [
    "obs, reward, done, truncated, info = env.step([sample_action])\n",
    "\n",
    "print(f\"obs: {obs}\")"
   ]
  },
  {
   "cell_type": "code",
   "execution_count": 8,
   "metadata": {},
   "outputs": [
    {
     "name": "stdout",
     "output_type": "stream",
     "text": [
      "{0.05: 0.32029974, 0.1: 0, 0.15: 0.08220658, 0.2: 0.2688409, 0.25: 0, 0.3: 0.61305875, 0.35: 0.45480883, 0.4: 0.5401744, 0.45: 0.17963561, 0.5: 0.20323929, 0.55: 0, 0.6: 0.52671796, 0.65: 0.10924062, 0.7: 0.5576987, 0.75: 0.15177527, 0.8: 0.3733947, 0.85: 0.11509696, 0.9: 0.62220275, 0.95: 0, 1.0: 0.0472129}\n"
     ]
    }
   ],
   "source": [
    "print(info['urgent_levels'])"
   ]
  },
  {
   "cell_type": "code",
   "execution_count": 9,
   "metadata": {},
   "outputs": [
    {
     "name": "stdout",
     "output_type": "stream",
     "text": [
      "Trader 0.05 action: [0.00249389 0.31971526]\n",
      "Trader 0.10 action: [0.00020638 0.00526792]\n",
      "Trader 0.15 action: [0.00512702 0.09733626]\n",
      "Trader 0.20 action: [-0.00233299  0.2965042 ]\n",
      "Trader 0.25 action: [1.9751005e-03 2.6792288e-05]\n",
      "Trader 0.30 action: [-0.00103524  0.50328255]\n",
      "Trader 0.35 action: [0.00137854 0.45340443]\n",
      "Trader 0.40 action: [0.00325134 0.5273311 ]\n",
      "Trader 0.45 action: [-0.00168698  0.18670434]\n",
      "Trader 0.50 action: [-0.00033108  0.22605631]\n",
      "Trader 0.55 action: [-6.4969547e-03  4.9501657e-05]\n",
      "Trader 0.60 action: [0.00357839 0.5379442 ]\n",
      "Trader 0.65 action: [0.00195673 0.14446396]\n",
      "Trader 0.70 action: [-0.00106313  0.5591819 ]\n",
      "Trader 0.75 action: [0.00178633 0.13815251]\n",
      "Trader 0.80 action: [0.00199657 0.30375642]\n",
      "Trader 0.85 action: [0.00065156 0.1148144 ]\n",
      "Trader 0.90 action: [0.00081716 0.62294513]\n",
      "Trader 0.95 action: [-0.0007465   0.00279012]\n",
      "Trader 1.00 action: [-0.00163219  0.05655926]\n",
      "{0.05: 0.31971526, 0.1: 0.005267918, 0.15: 0.09733626, 0.2: 0.2965042, 0.25: 0, 0.3: 0.50328255, 0.35: 0.45340443, 0.4: 0.5273311, 0.45: 0.18670434, 0.5: 0.22605631, 0.55: 0, 0.6: 0.5379442, 0.65: 0.14446396, 0.7: 0.5591819, 0.75: 0.13815251, 0.8: 0.30375642, 0.85: 0.1148144, 0.9: 0.62294513, 0.95: 0, 1.0: 0.056559265}\n"
     ]
    }
   ],
   "source": [
    "obs, reward, done, truncated, info = env.step([0.05])\n",
    "print(info['urgent_levels'])"
   ]
  },
  {
   "cell_type": "code",
   "execution_count": 10,
   "metadata": {},
   "outputs": [
    {
     "name": "stdout",
     "output_type": "stream",
     "text": [
      "{0.05: 0.31971526, 0.1: 0.005267918, 0.15: 0.09733626, 0.2: 0.2965042, 0.25: 0, 0.3: 0.50328255, 0.35: 0.45340443, 0.4: 0.5273311, 0.45: 0.18670434, 0.5: 0.22605631, 0.55: 0, 0.6: 0.5379442, 0.65: 0.14446396, 0.7: 0.5591819, 0.75: 0.13815251, 0.8: 0.30375642, 0.85: 0.1148144, 0.9: 0.62294513, 0.95: 0, 1.0: 0.056559265}\n"
     ]
    }
   ],
   "source": [
    "urgent_levels = info['urgent_levels']\n",
    "print(urgent_levels)    "
   ]
  },
  {
   "cell_type": "code",
   "execution_count": 12,
   "metadata": {},
   "outputs": [
    {
     "name": "stdout",
     "output_type": "stream",
     "text": [
      "0.05 0.31971526\n",
      "0.1 0.005267918\n",
      "0.15 0.09733626\n",
      "0.2 0.2965042\n",
      "0.25 0\n",
      "0.3 0.50328255\n",
      "0.35 0.45340443\n",
      "0.4 0.5273311\n",
      "0.45 0.18670434\n",
      "0.5 0.22605631\n",
      "0.55 0\n",
      "0.6 0.5379442\n",
      "0.65 0.14446396\n",
      "0.7 0.5591819\n",
      "0.75 0.13815251\n",
      "0.8 0.30375642\n",
      "0.85 0.1148144\n",
      "0.9 0.62294513\n",
      "0.95 0\n",
      "1.0 0.056559265\n"
     ]
    }
   ],
   "source": [
    "for mc, urgent_level in urgent_levels.items():\n",
    "    print(mc, urgent_level)"
   ]
  },
  {
   "cell_type": "code",
   "execution_count": null,
   "metadata": {},
   "outputs": [],
   "source": []
  }
 ],
 "metadata": {
  "kernelspec": {
   "display_name": "amm-env",
   "language": "python",
   "name": "python3"
  },
  "language_info": {
   "codemirror_mode": {
    "name": "ipython",
    "version": 3
   },
   "file_extension": ".py",
   "mimetype": "text/x-python",
   "name": "python",
   "nbconvert_exporter": "python",
   "pygments_lexer": "ipython3",
   "version": "3.9.18"
  }
 },
 "nbformat": 4,
 "nbformat_minor": 2
}
