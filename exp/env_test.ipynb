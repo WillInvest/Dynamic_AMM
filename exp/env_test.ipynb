{
 "cells": [
  {
   "cell_type": "code",
   "execution_count": 1,
   "metadata": {},
   "outputs": [
    {
     "name": "stderr",
     "output_type": "stream",
     "text": [
      "2024-09-24 17:11:37.137968: I tensorflow/core/platform/cpu_feature_guard.cc:182] This TensorFlow binary is optimized to use available CPU instructions in performance-critical operations.\n",
      "To enable the following instructions: SSE4.1 SSE4.2 AVX AVX2 AVX_VNNI FMA, in other operations, rebuild TensorFlow with the appropriate compiler flags.\n"
     ]
    }
   ],
   "source": [
    "import os\n",
    "import sys\n",
    "# add /home/shiftpub/AMM-Python as a path\n",
    "sys.path.append(os.path.join(os.getcwd(), '..'))\n",
    "from env.new_amm import AMM\n",
    "from env.market import MarketSimulator\n",
    "from env.amm_env import DynamicAMM\n"
   ]
  },
  {
   "cell_type": "code",
   "execution_count": 2,
   "metadata": {},
   "outputs": [
    {
     "name": "stdout",
     "output_type": "stream",
     "text": [
      "Loaded trader with competition level of 0.05\n",
      "Loaded trader with competition level of 0.10\n",
      "Loaded trader with competition level of 0.15\n",
      "Loaded trader with competition level of 0.20\n",
      "Loaded trader with competition level of 0.25\n",
      "Loaded trader with competition level of 0.30\n",
      "Loaded trader with competition level of 0.35\n",
      "Loaded trader with competition level of 0.40\n",
      "Loaded trader with competition level of 0.45\n",
      "Loaded trader with competition level of 0.50\n",
      "Loaded trader with competition level of 0.55\n",
      "Loaded trader with competition level of 0.60\n",
      "Loaded trader with competition level of 0.65\n",
      "Loaded trader with competition level of 0.70\n",
      "Loaded trader with competition level of 0.75\n",
      "Loaded trader with competition level of 0.80\n",
      "Loaded trader with competition level of 0.85\n",
      "Loaded trader with competition level of 0.90\n",
      "Loaded trader with competition level of 0.95\n",
      "Loaded trader with competition level of 1.00\n",
      "[1.0000004 0.9999996 1.        1.       ]\n"
     ]
    }
   ],
   "source": [
    "amm = AMM()\n",
    "market = MarketSimulator()\n",
    "trader_dir = '/home/shiftpub/AMM-Python/models/trader_model'\n",
    "env = DynamicAMM(amm=amm, market=market, trader_dir=trader_dir)\n",
    "\n",
    "obs, _ = env.reset()\n",
    "print(obs)"
   ]
  },
  {
   "cell_type": "code",
   "execution_count": 3,
   "metadata": {},
   "outputs": [
    {
     "name": "stdout",
     "output_type": "stream",
     "text": [
      "[0.00343199]\n"
     ]
    }
   ],
   "source": [
    "sample_action = env.action_space.sample()\n",
    "print(sample_action)"
   ]
  },
  {
   "cell_type": "code",
   "execution_count": 6,
   "metadata": {},
   "outputs": [
    {
     "name": "stdout",
     "output_type": "stream",
     "text": [
      "obs: [1.000294  1.0002931 1.        1.       ]\n"
     ]
    }
   ],
   "source": [
    "obs, reward, done, truncated, info = env.step([sample_action])\n",
    "\n",
    "print(f\"obs: {obs}\")"
   ]
  },
  {
   "cell_type": "code",
   "execution_count": 8,
   "metadata": {},
   "outputs": [
    {
     "name": "stdout",
     "output_type": "stream",
     "text": [
      "{0.05: 0.32029974, 0.1: 0, 0.15: 0.08220658, 0.2: 0.2688409, 0.25: 0, 0.3: 0.61305875, 0.35: 0.45480883, 0.4: 0.5401744, 0.45: 0.17963561, 0.5: 0.20323929, 0.55: 0, 0.6: 0.52671796, 0.65: 0.10924062, 0.7: 0.5576987, 0.75: 0.15177527, 0.8: 0.3733947, 0.85: 0.11509696, 0.9: 0.62220275, 0.95: 0, 1.0: 0.0472129}\n"
     ]
    }
   ],
   "source": [
    "print(info['urgent_levels'])"
   ]
  },
  {
   "cell_type": "code",
   "execution_count": 9,
   "metadata": {},
   "outputs": [
    {
     "name": "stdout",
     "output_type": "stream",
     "text": [
      "Trader 0.05 action: [0.00249389 0.31971526]\n",
      "Trader 0.10 action: [0.00020638 0.00526792]\n",
      "Trader 0.15 action: [0.00512702 0.09733626]\n",
      "Trader 0.20 action: [-0.00233299  0.2965042 ]\n",
      "Trader 0.25 action: [1.9751005e-03 2.6792288e-05]\n",
      "Trader 0.30 action: [-0.00103524  0.50328255]\n",
      "Trader 0.35 action: [0.00137854 0.45340443]\n",
      "Trader 0.40 action: [0.00325134 0.5273311 ]\n",
      "Trader 0.45 action: [-0.00168698  0.18670434]\n",
      "Trader 0.50 action: [-0.00033108  0.22605631]\n",
      "Trader 0.55 action: [-6.4969547e-03  4.9501657e-05]\n",
      "Trader 0.60 action: [0.00357839 0.5379442 ]\n",
      "Trader 0.65 action: [0.00195673 0.14446396]\n",
      "Trader 0.70 action: [-0.00106313  0.5591819 ]\n",
      "Trader 0.75 action: [0.00178633 0.13815251]\n",
      "Trader 0.80 action: [0.00199657 0.30375642]\n",
      "Trader 0.85 action: [0.00065156 0.1148144 ]\n",
      "Trader 0.90 action: [0.00081716 0.62294513]\n",
      "Trader 0.95 action: [-0.0007465   0.00279012]\n",
      "Trader 1.00 action: [-0.00163219  0.05655926]\n",
      "{0.05: 0.31971526, 0.1: 0.005267918, 0.15: 0.09733626, 0.2: 0.2965042, 0.25: 0, 0.3: 0.50328255, 0.35: 0.45340443, 0.4: 0.5273311, 0.45: 0.18670434, 0.5: 0.22605631, 0.55: 0, 0.6: 0.5379442, 0.65: 0.14446396, 0.7: 0.5591819, 0.75: 0.13815251, 0.8: 0.30375642, 0.85: 0.1148144, 0.9: 0.62294513, 0.95: 0, 1.0: 0.056559265}\n"
     ]
    }
   ],
   "source": [
    "obs, reward, done, truncated, info = env.step([0.05])\n",
    "print(info['urgent_levels'])"
   ]
  },
  {
   "cell_type": "code",
   "execution_count": 10,
   "metadata": {},
   "outputs": [
    {
     "name": "stdout",
     "output_type": "stream",
     "text": [
      "{0.05: 0.31971526, 0.1: 0.005267918, 0.15: 0.09733626, 0.2: 0.2965042, 0.25: 0, 0.3: 0.50328255, 0.35: 0.45340443, 0.4: 0.5273311, 0.45: 0.18670434, 0.5: 0.22605631, 0.55: 0, 0.6: 0.5379442, 0.65: 0.14446396, 0.7: 0.5591819, 0.75: 0.13815251, 0.8: 0.30375642, 0.85: 0.1148144, 0.9: 0.62294513, 0.95: 0, 1.0: 0.056559265}\n"
     ]
    }
   ],
   "source": [
    "urgent_levels = info['urgent_levels']\n",
    "print(urgent_levels)    "
   ]
  },
  {
   "cell_type": "code",
   "execution_count": 12,
   "metadata": {},
   "outputs": [
    {
     "name": "stdout",
     "output_type": "stream",
     "text": [
      "0.05 0.31971526\n",
      "0.1 0.005267918\n",
      "0.15 0.09733626\n",
      "0.2 0.2965042\n",
      "0.25 0\n",
      "0.3 0.50328255\n",
      "0.35 0.45340443\n",
      "0.4 0.5273311\n",
      "0.45 0.18670434\n",
      "0.5 0.22605631\n",
      "0.55 0\n",
      "0.6 0.5379442\n",
      "0.65 0.14446396\n",
      "0.7 0.5591819\n",
      "0.75 0.13815251\n",
      "0.8 0.30375642\n",
      "0.85 0.1148144\n",
      "0.9 0.62294513\n",
      "0.95 0\n",
      "1.0 0.056559265\n"
     ]
    }
   ],
   "source": [
    "for mc, urgent_level in urgent_levels.items():\n",
    "    print(mc, urgent_level)"
   ]
  },
  {
   "cell_type": "code",
   "execution_count": null,
   "metadata": {},
   "outputs": [],
   "source": []
  }
 ],
 "metadata": {
  "kernelspec": {
   "display_name": "amm-env",
   "language": "python",
   "name": "python3"
  },
  "language_info": {
   "codemirror_mode": {
    "name": "ipython",
    "version": 3
   },
   "file_extension": ".py",
   "mimetype": "text/x-python",
   "name": "python",
   "nbconvert_exporter": "python",
   "pygments_lexer": "ipython3",
   "version": "3.9.18"
  }
 },
 "nbformat": 4,
 "nbformat_minor": 2
}
