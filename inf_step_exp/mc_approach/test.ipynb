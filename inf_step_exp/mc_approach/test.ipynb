{
 "cells": [
  {
   "cell_type": "code",
   "execution_count": 1,
   "metadata": {},
   "outputs": [
    {
     "name": "stdout",
     "output_type": "stream",
     "text": [
      "|     |   time_step |   price |   dis_x |   dis_y |   re_in_x |   re_in_y |   re_out_x |   re_out_y |   dis_in_fee |   dis_out_fee |   re_in_L |   re_out_L |   dis_L |\n",
      "|----:|------------:|--------:|--------:|--------:|----------:|----------:|-----------:|-----------:|-------------:|--------------:|----------:|-----------:|--------:|\n",
      "|  91 |          91 | 1.01025 | 995.759 | 1004.26 |   995.768 |   1004.27 |    995.768 |    1004.27 |    0.0175655 |     0.0175758 |   1000.01 |    1000.01 |    1000 |\n",
      "|  92 |          92 | 1.01195 | 995.075 | 1004.95 |   995.085 |   1004.96 |    995.085 |    1004.96 |    0.0189485 |     0.0189598 |   1000.01 |    1000.01 |    1000 |\n",
      "|  93 |          93 | 1.01148 | 995.075 | 1004.95 |   995.085 |   1004.96 |    995.085 |    1004.96 |    0.0189485 |     0.0189598 |   1000.01 |    1000.01 |    1000 |\n",
      "|  94 |          94 | 1.01068 | 995.075 | 1004.95 |   995.085 |   1004.96 |    995.085 |    1004.96 |    0.0189485 |     0.0189598 |   1000.01 |    1000.01 |    1000 |\n",
      "|  95 |          95 | 1.01095 | 995.075 | 1004.95 |   995.085 |   1004.96 |    995.085 |    1004.96 |    0.0189485 |     0.0189598 |   1000.01 |    1000.01 |    1000 |\n",
      "|  96 |          96 | 1.01207 | 995.017 | 1005.01 |   995.026 |   1005.02 |    995.026 |    1005.02 |    0.0190678 |     0.0190791 |   1000.01 |    1000.01 |    1000 |\n",
      "|  97 |          97 | 1.01224 | 994.931 | 1005.09 |   994.941 |   1005.1  |    994.941 |    1005.1  |    0.0192404 |     0.0192518 |   1000.01 |    1000.01 |    1000 |\n",
      "|  98 |          98 | 1.01161 | 994.931 | 1005.09 |   994.941 |   1005.1  |    994.941 |    1005.1  |    0.0192404 |     0.0192518 |   1000.01 |    1000.01 |    1000 |\n",
      "|  99 |          99 | 1.01016 | 994.931 | 1005.09 |   994.941 |   1005.1  |    994.941 |    1005.1  |    0.0192404 |     0.0192518 |   1000.01 |    1000.01 |    1000 |\n",
      "| 100 |         100 | 1.00864 | 994.931 | 1005.09 |   994.941 |   1005.1  |    994.941 |    1005.1  |    0.0192404 |     0.0192518 |   1000.01 |    1000.01 |    1000 |\n"
     ]
    }
   ],
   "source": [
    "import sys\n",
    "sys.path.append('/home/shiftpub/Dynamic_AMM/inf_step_exp/mc_approach')\n",
    "from test_case import Test_Simulator\n",
    "from crazy_simulation import AMMSimulator\n",
    "import matplotlib.pyplot as plt\n",
    "\n",
    "sigma = 0.1\n",
    "gamma = 0.002\n",
    "dt = 1/(365 * 24)\n",
    "steps = 100\n",
    "seed = 0\n",
    "\n",
    "test_simulator = Test_Simulator(sigma=sigma, gamma=gamma, dt=dt, steps=steps, seed=seed)\n",
    "\n",
    "test_df = test_simulator.simulate()\n",
    "print(test_df.tail(10).to_markdown())"
   ]
  },
  {
   "cell_type": "code",
   "execution_count": 2,
   "metadata": {},
   "outputs": [
    {
     "name": "stdout",
     "output_type": "stream",
     "text": [
      "|    |   path_idx |   sigma |   gamma |   price |   x_dis |   y_dis |   x_rinc |   y_rinc |   x_rout |   y_rout |   dis_inc_fees |   dis_out_fees |\n",
      "|---:|-----------:|--------:|--------:|--------:|--------:|--------:|---------:|---------:|---------:|---------:|---------------:|---------------:|\n",
      "|  0 |          0 |     0.1 |   0.002 | 1.00864 | 994.931 | 1005.09 |  994.931 |  1005.09 |  994.931 |  1005.09 |      0.0192404 |      0.0192518 |\n"
     ]
    }
   ],
   "source": [
    "import pandas as pd\n",
    "\n",
    "path = '/Users/haofu/Desktop/AMM/Dynamic_AMM/inf_step_exp/mc_approach/crazy_simulation_results/20250410_222746/simulation_results_combined.parquet'\n",
    "df = pd.read_parquet(path)\n",
    "\n",
    "print(df.head(10).to_markdown())\n"
   ]
  },
  {
   "cell_type": "markdown",
   "metadata": {},
   "source": []
  },
  {
   "cell_type": "code",
   "execution_count": 3,
   "metadata": {},
   "outputs": [
    {
     "name": "stderr",
     "output_type": "stream",
     "text": [
      "100%|██████████| 100/100 [00:00<00:00, 11284.11it/s]\n"
     ]
    }
   ],
   "source": [
    "from simulation_full import AMMSimulator\n",
    "import numpy as np\n",
    "import pandas as pd\n",
    "\n",
    "sigma = 0.1\n",
    "gamma = 0.002\n",
    "dt = 1/(365 * 24)\n",
    "steps = 100\n",
    "seed = 0\n",
    "\n",
    "simulator = AMMSimulator(dt=dt, steps=steps, num_paths=1, sigma=sigma, gamma=gamma)\n",
    "\n",
    "results = simulator.simulate_all_paths(seed)\n"
   ]
  },
  {
   "cell_type": "code",
   "execution_count": 4,
   "metadata": {},
   "outputs": [
    {
     "name": "stdout",
     "output_type": "stream",
     "text": [
      "|     |   gamma |   prices |    dis_x |    dis_y |   dis_in_fees |   dis_out_fees |   re_inc_x |   re_inc_y |   re_out_x |   re_out_y |\n",
      "|----:|--------:|---------:|---------:|---------:|--------------:|---------------:|-----------:|-----------:|-----------:|-----------:|\n",
      "|  91 |   0.002 |  1.00015 | 1000.61  |  999.394 |     0.0285391 |      0.0285573 |   1000.62  |    999.408 |    925.539 |    924.417 |\n",
      "|  92 |   0.002 |  1.00145 | 1000.28  |  999.725 |     0.029203  |      0.0292213 |   1000.29  |    999.739 |    923.384 |    922.876 |\n",
      "|  93 |   0.002 |  1.00167 | 1000.16  |  999.836 |     0.0294253 |      0.0294437 |   1000.18  |    999.85  |    921.437 |    921.134 |\n",
      "|  94 |   0.002 |  1.00272 |  999.643 | 1000.36  |     0.0304704 |      0.0304894 |    999.658 |   1000.37  |    919.117 |    919.774 |\n",
      "|  95 |   0.002 |  1.0031  |  999.453 | 1000.55  |     0.0308515 |      0.0308705 |    999.468 |   1000.56  |    917.106 |    918.111 |\n",
      "|  96 |   0.002 |  1.00386 |  999.076 | 1000.92  |     0.031608  |      0.0316273 |    999.092 |   1000.94  |    914.929 |    916.622 |\n",
      "|  97 |   0.002 |  1.00387 |  999.071 | 1000.93  |     0.0316186 |      0.0316379 |    999.086 |   1000.95  |    913.096 |    914.796 |\n",
      "|  98 |   0.002 |  1.00579 |  998.118 | 1001.89  |     0.0335327 |      0.0335538 |    998.135 |   1001.9   |    910.404 |    913.84  |\n",
      "|  99 |   0.002 |  1.00592 |  998.051 | 1001.95  |     0.0336682 |      0.0336893 |    998.068 |   1001.97  |    908.524 |    912.076 |\n",
      "| 100 |   0.002 |  1.00635 |  997.837 | 1002.17  |     0.0340989 |      0.0341201 |    997.854 |   1002.18  |    906.514 |    910.449 |\n"
     ]
    }
   ],
   "source": [
    "from pprint import pprint\n",
    "results_df = pd.DataFrame({\n",
    "    'gamma': list(results.keys())[0],\n",
    "    'prices': results[0.002]['prices'][0,:],\n",
    "    'dis_x': results[0.002]['dis_x'][0,:],\n",
    "    'dis_y': results[0.002]['dis_y'][0,:],\n",
    "    'dis_in_fees': results[0.002]['dis_inc_fees'][0,:],\n",
    "    'dis_out_fees': results[0.002]['dis_out_fees'][0,:],\n",
    "    're_inc_x': results[0.002]['re_inc_x'][0,:],\n",
    "    're_inc_y': results[0.002]['re_inc_y'][0,:],\n",
    "    're_out_x': results[0.002]['re_out_x'][0,:],\n",
    "    're_out_y': results[0.002]['re_out_y'][0,:]\n",
    "})\n",
    "\n",
    "print(results_df.tail(10).to_markdown())"
   ]
  },
  {
   "cell_type": "code",
   "execution_count": 5,
   "metadata": {},
   "outputs": [
    {
     "name": "stdout",
     "output_type": "stream",
     "text": [
      "cumulative dis in fee:0.03409889135812173\n"
     ]
    }
   ],
   "source": [
    "print(f\"cumulative dis in fee:{results_df.iloc[-1]['dis_in_fees']}\")"
   ]
  },
  {
   "cell_type": "code",
   "execution_count": 6,
   "metadata": {},
   "outputs": [
    {
     "ename": "FileNotFoundError",
     "evalue": "[Errno 2] No such file or directory: '/home/shiftpub/Dynamic_AMM/inf_step_exp/mc_approach/mc_results/results_sigma0.006.csv'",
     "output_type": "error",
     "traceback": [
      "\u001b[0;31m---------------------------------------------------------------------------\u001b[0m",
      "\u001b[0;31mFileNotFoundError\u001b[0m                         Traceback (most recent call last)",
      "Cell \u001b[0;32mIn[6], line 4\u001b[0m\n\u001b[1;32m      1\u001b[0m \u001b[38;5;28;01mimport\u001b[39;00m\u001b[38;5;250m \u001b[39m\u001b[38;5;21;01mpandas\u001b[39;00m\u001b[38;5;250m \u001b[39m\u001b[38;5;28;01mas\u001b[39;00m\u001b[38;5;250m \u001b[39m\u001b[38;5;21;01mpd\u001b[39;00m\n\u001b[1;32m      3\u001b[0m path \u001b[38;5;241m=\u001b[39m \u001b[38;5;124m'\u001b[39m\u001b[38;5;124m/home/shiftpub/Dynamic_AMM/inf_step_exp/mc_approach/mc_results/results_sigma0.006.csv\u001b[39m\u001b[38;5;124m'\u001b[39m\n\u001b[0;32m----> 4\u001b[0m df \u001b[38;5;241m=\u001b[39m \u001b[43mpd\u001b[49m\u001b[38;5;241;43m.\u001b[39;49m\u001b[43mread_csv\u001b[49m\u001b[43m(\u001b[49m\u001b[43mpath\u001b[49m\u001b[43m)\u001b[49m\n\u001b[1;32m      6\u001b[0m \u001b[38;5;28mprint\u001b[39m(df\u001b[38;5;241m.\u001b[39mhead(\u001b[38;5;241m10\u001b[39m)\u001b[38;5;241m.\u001b[39mto_markdown())\n",
      "File \u001b[0;32m/opt/anaconda3/envs/amm-env/lib/python3.9/site-packages/pandas/io/parsers/readers.py:1026\u001b[0m, in \u001b[0;36mread_csv\u001b[0;34m(filepath_or_buffer, sep, delimiter, header, names, index_col, usecols, dtype, engine, converters, true_values, false_values, skipinitialspace, skiprows, skipfooter, nrows, na_values, keep_default_na, na_filter, verbose, skip_blank_lines, parse_dates, infer_datetime_format, keep_date_col, date_parser, date_format, dayfirst, cache_dates, iterator, chunksize, compression, thousands, decimal, lineterminator, quotechar, quoting, doublequote, escapechar, comment, encoding, encoding_errors, dialect, on_bad_lines, delim_whitespace, low_memory, memory_map, float_precision, storage_options, dtype_backend)\u001b[0m\n\u001b[1;32m   1013\u001b[0m kwds_defaults \u001b[38;5;241m=\u001b[39m _refine_defaults_read(\n\u001b[1;32m   1014\u001b[0m     dialect,\n\u001b[1;32m   1015\u001b[0m     delimiter,\n\u001b[0;32m   (...)\u001b[0m\n\u001b[1;32m   1022\u001b[0m     dtype_backend\u001b[38;5;241m=\u001b[39mdtype_backend,\n\u001b[1;32m   1023\u001b[0m )\n\u001b[1;32m   1024\u001b[0m kwds\u001b[38;5;241m.\u001b[39mupdate(kwds_defaults)\n\u001b[0;32m-> 1026\u001b[0m \u001b[38;5;28;01mreturn\u001b[39;00m \u001b[43m_read\u001b[49m\u001b[43m(\u001b[49m\u001b[43mfilepath_or_buffer\u001b[49m\u001b[43m,\u001b[49m\u001b[43m \u001b[49m\u001b[43mkwds\u001b[49m\u001b[43m)\u001b[49m\n",
      "File \u001b[0;32m/opt/anaconda3/envs/amm-env/lib/python3.9/site-packages/pandas/io/parsers/readers.py:620\u001b[0m, in \u001b[0;36m_read\u001b[0;34m(filepath_or_buffer, kwds)\u001b[0m\n\u001b[1;32m    617\u001b[0m _validate_names(kwds\u001b[38;5;241m.\u001b[39mget(\u001b[38;5;124m\"\u001b[39m\u001b[38;5;124mnames\u001b[39m\u001b[38;5;124m\"\u001b[39m, \u001b[38;5;28;01mNone\u001b[39;00m))\n\u001b[1;32m    619\u001b[0m \u001b[38;5;66;03m# Create the parser.\u001b[39;00m\n\u001b[0;32m--> 620\u001b[0m parser \u001b[38;5;241m=\u001b[39m \u001b[43mTextFileReader\u001b[49m\u001b[43m(\u001b[49m\u001b[43mfilepath_or_buffer\u001b[49m\u001b[43m,\u001b[49m\u001b[43m \u001b[49m\u001b[38;5;241;43m*\u001b[39;49m\u001b[38;5;241;43m*\u001b[39;49m\u001b[43mkwds\u001b[49m\u001b[43m)\u001b[49m\n\u001b[1;32m    622\u001b[0m \u001b[38;5;28;01mif\u001b[39;00m chunksize \u001b[38;5;129;01mor\u001b[39;00m iterator:\n\u001b[1;32m    623\u001b[0m     \u001b[38;5;28;01mreturn\u001b[39;00m parser\n",
      "File \u001b[0;32m/opt/anaconda3/envs/amm-env/lib/python3.9/site-packages/pandas/io/parsers/readers.py:1620\u001b[0m, in \u001b[0;36mTextFileReader.__init__\u001b[0;34m(self, f, engine, **kwds)\u001b[0m\n\u001b[1;32m   1617\u001b[0m     \u001b[38;5;28mself\u001b[39m\u001b[38;5;241m.\u001b[39moptions[\u001b[38;5;124m\"\u001b[39m\u001b[38;5;124mhas_index_names\u001b[39m\u001b[38;5;124m\"\u001b[39m] \u001b[38;5;241m=\u001b[39m kwds[\u001b[38;5;124m\"\u001b[39m\u001b[38;5;124mhas_index_names\u001b[39m\u001b[38;5;124m\"\u001b[39m]\n\u001b[1;32m   1619\u001b[0m \u001b[38;5;28mself\u001b[39m\u001b[38;5;241m.\u001b[39mhandles: IOHandles \u001b[38;5;241m|\u001b[39m \u001b[38;5;28;01mNone\u001b[39;00m \u001b[38;5;241m=\u001b[39m \u001b[38;5;28;01mNone\u001b[39;00m\n\u001b[0;32m-> 1620\u001b[0m \u001b[38;5;28mself\u001b[39m\u001b[38;5;241m.\u001b[39m_engine \u001b[38;5;241m=\u001b[39m \u001b[38;5;28;43mself\u001b[39;49m\u001b[38;5;241;43m.\u001b[39;49m\u001b[43m_make_engine\u001b[49m\u001b[43m(\u001b[49m\u001b[43mf\u001b[49m\u001b[43m,\u001b[49m\u001b[43m \u001b[49m\u001b[38;5;28;43mself\u001b[39;49m\u001b[38;5;241;43m.\u001b[39;49m\u001b[43mengine\u001b[49m\u001b[43m)\u001b[49m\n",
      "File \u001b[0;32m/opt/anaconda3/envs/amm-env/lib/python3.9/site-packages/pandas/io/parsers/readers.py:1880\u001b[0m, in \u001b[0;36mTextFileReader._make_engine\u001b[0;34m(self, f, engine)\u001b[0m\n\u001b[1;32m   1878\u001b[0m     \u001b[38;5;28;01mif\u001b[39;00m \u001b[38;5;124m\"\u001b[39m\u001b[38;5;124mb\u001b[39m\u001b[38;5;124m\"\u001b[39m \u001b[38;5;129;01mnot\u001b[39;00m \u001b[38;5;129;01min\u001b[39;00m mode:\n\u001b[1;32m   1879\u001b[0m         mode \u001b[38;5;241m+\u001b[39m\u001b[38;5;241m=\u001b[39m \u001b[38;5;124m\"\u001b[39m\u001b[38;5;124mb\u001b[39m\u001b[38;5;124m\"\u001b[39m\n\u001b[0;32m-> 1880\u001b[0m \u001b[38;5;28mself\u001b[39m\u001b[38;5;241m.\u001b[39mhandles \u001b[38;5;241m=\u001b[39m \u001b[43mget_handle\u001b[49m\u001b[43m(\u001b[49m\n\u001b[1;32m   1881\u001b[0m \u001b[43m    \u001b[49m\u001b[43mf\u001b[49m\u001b[43m,\u001b[49m\n\u001b[1;32m   1882\u001b[0m \u001b[43m    \u001b[49m\u001b[43mmode\u001b[49m\u001b[43m,\u001b[49m\n\u001b[1;32m   1883\u001b[0m \u001b[43m    \u001b[49m\u001b[43mencoding\u001b[49m\u001b[38;5;241;43m=\u001b[39;49m\u001b[38;5;28;43mself\u001b[39;49m\u001b[38;5;241;43m.\u001b[39;49m\u001b[43moptions\u001b[49m\u001b[38;5;241;43m.\u001b[39;49m\u001b[43mget\u001b[49m\u001b[43m(\u001b[49m\u001b[38;5;124;43m\"\u001b[39;49m\u001b[38;5;124;43mencoding\u001b[39;49m\u001b[38;5;124;43m\"\u001b[39;49m\u001b[43m,\u001b[49m\u001b[43m \u001b[49m\u001b[38;5;28;43;01mNone\u001b[39;49;00m\u001b[43m)\u001b[49m\u001b[43m,\u001b[49m\n\u001b[1;32m   1884\u001b[0m \u001b[43m    \u001b[49m\u001b[43mcompression\u001b[49m\u001b[38;5;241;43m=\u001b[39;49m\u001b[38;5;28;43mself\u001b[39;49m\u001b[38;5;241;43m.\u001b[39;49m\u001b[43moptions\u001b[49m\u001b[38;5;241;43m.\u001b[39;49m\u001b[43mget\u001b[49m\u001b[43m(\u001b[49m\u001b[38;5;124;43m\"\u001b[39;49m\u001b[38;5;124;43mcompression\u001b[39;49m\u001b[38;5;124;43m\"\u001b[39;49m\u001b[43m,\u001b[49m\u001b[43m \u001b[49m\u001b[38;5;28;43;01mNone\u001b[39;49;00m\u001b[43m)\u001b[49m\u001b[43m,\u001b[49m\n\u001b[1;32m   1885\u001b[0m \u001b[43m    \u001b[49m\u001b[43mmemory_map\u001b[49m\u001b[38;5;241;43m=\u001b[39;49m\u001b[38;5;28;43mself\u001b[39;49m\u001b[38;5;241;43m.\u001b[39;49m\u001b[43moptions\u001b[49m\u001b[38;5;241;43m.\u001b[39;49m\u001b[43mget\u001b[49m\u001b[43m(\u001b[49m\u001b[38;5;124;43m\"\u001b[39;49m\u001b[38;5;124;43mmemory_map\u001b[39;49m\u001b[38;5;124;43m\"\u001b[39;49m\u001b[43m,\u001b[49m\u001b[43m \u001b[49m\u001b[38;5;28;43;01mFalse\u001b[39;49;00m\u001b[43m)\u001b[49m\u001b[43m,\u001b[49m\n\u001b[1;32m   1886\u001b[0m \u001b[43m    \u001b[49m\u001b[43mis_text\u001b[49m\u001b[38;5;241;43m=\u001b[39;49m\u001b[43mis_text\u001b[49m\u001b[43m,\u001b[49m\n\u001b[1;32m   1887\u001b[0m \u001b[43m    \u001b[49m\u001b[43merrors\u001b[49m\u001b[38;5;241;43m=\u001b[39;49m\u001b[38;5;28;43mself\u001b[39;49m\u001b[38;5;241;43m.\u001b[39;49m\u001b[43moptions\u001b[49m\u001b[38;5;241;43m.\u001b[39;49m\u001b[43mget\u001b[49m\u001b[43m(\u001b[49m\u001b[38;5;124;43m\"\u001b[39;49m\u001b[38;5;124;43mencoding_errors\u001b[39;49m\u001b[38;5;124;43m\"\u001b[39;49m\u001b[43m,\u001b[49m\u001b[43m \u001b[49m\u001b[38;5;124;43m\"\u001b[39;49m\u001b[38;5;124;43mstrict\u001b[39;49m\u001b[38;5;124;43m\"\u001b[39;49m\u001b[43m)\u001b[49m\u001b[43m,\u001b[49m\n\u001b[1;32m   1888\u001b[0m \u001b[43m    \u001b[49m\u001b[43mstorage_options\u001b[49m\u001b[38;5;241;43m=\u001b[39;49m\u001b[38;5;28;43mself\u001b[39;49m\u001b[38;5;241;43m.\u001b[39;49m\u001b[43moptions\u001b[49m\u001b[38;5;241;43m.\u001b[39;49m\u001b[43mget\u001b[49m\u001b[43m(\u001b[49m\u001b[38;5;124;43m\"\u001b[39;49m\u001b[38;5;124;43mstorage_options\u001b[39;49m\u001b[38;5;124;43m\"\u001b[39;49m\u001b[43m,\u001b[49m\u001b[43m \u001b[49m\u001b[38;5;28;43;01mNone\u001b[39;49;00m\u001b[43m)\u001b[49m\u001b[43m,\u001b[49m\n\u001b[1;32m   1889\u001b[0m \u001b[43m\u001b[49m\u001b[43m)\u001b[49m\n\u001b[1;32m   1890\u001b[0m \u001b[38;5;28;01massert\u001b[39;00m \u001b[38;5;28mself\u001b[39m\u001b[38;5;241m.\u001b[39mhandles \u001b[38;5;129;01mis\u001b[39;00m \u001b[38;5;129;01mnot\u001b[39;00m \u001b[38;5;28;01mNone\u001b[39;00m\n\u001b[1;32m   1891\u001b[0m f \u001b[38;5;241m=\u001b[39m \u001b[38;5;28mself\u001b[39m\u001b[38;5;241m.\u001b[39mhandles\u001b[38;5;241m.\u001b[39mhandle\n",
      "File \u001b[0;32m/opt/anaconda3/envs/amm-env/lib/python3.9/site-packages/pandas/io/common.py:873\u001b[0m, in \u001b[0;36mget_handle\u001b[0;34m(path_or_buf, mode, encoding, compression, memory_map, is_text, errors, storage_options)\u001b[0m\n\u001b[1;32m    868\u001b[0m \u001b[38;5;28;01melif\u001b[39;00m \u001b[38;5;28misinstance\u001b[39m(handle, \u001b[38;5;28mstr\u001b[39m):\n\u001b[1;32m    869\u001b[0m     \u001b[38;5;66;03m# Check whether the filename is to be opened in binary mode.\u001b[39;00m\n\u001b[1;32m    870\u001b[0m     \u001b[38;5;66;03m# Binary mode does not support 'encoding' and 'newline'.\u001b[39;00m\n\u001b[1;32m    871\u001b[0m     \u001b[38;5;28;01mif\u001b[39;00m ioargs\u001b[38;5;241m.\u001b[39mencoding \u001b[38;5;129;01mand\u001b[39;00m \u001b[38;5;124m\"\u001b[39m\u001b[38;5;124mb\u001b[39m\u001b[38;5;124m\"\u001b[39m \u001b[38;5;129;01mnot\u001b[39;00m \u001b[38;5;129;01min\u001b[39;00m ioargs\u001b[38;5;241m.\u001b[39mmode:\n\u001b[1;32m    872\u001b[0m         \u001b[38;5;66;03m# Encoding\u001b[39;00m\n\u001b[0;32m--> 873\u001b[0m         handle \u001b[38;5;241m=\u001b[39m \u001b[38;5;28;43mopen\u001b[39;49m\u001b[43m(\u001b[49m\n\u001b[1;32m    874\u001b[0m \u001b[43m            \u001b[49m\u001b[43mhandle\u001b[49m\u001b[43m,\u001b[49m\n\u001b[1;32m    875\u001b[0m \u001b[43m            \u001b[49m\u001b[43mioargs\u001b[49m\u001b[38;5;241;43m.\u001b[39;49m\u001b[43mmode\u001b[49m\u001b[43m,\u001b[49m\n\u001b[1;32m    876\u001b[0m \u001b[43m            \u001b[49m\u001b[43mencoding\u001b[49m\u001b[38;5;241;43m=\u001b[39;49m\u001b[43mioargs\u001b[49m\u001b[38;5;241;43m.\u001b[39;49m\u001b[43mencoding\u001b[49m\u001b[43m,\u001b[49m\n\u001b[1;32m    877\u001b[0m \u001b[43m            \u001b[49m\u001b[43merrors\u001b[49m\u001b[38;5;241;43m=\u001b[39;49m\u001b[43merrors\u001b[49m\u001b[43m,\u001b[49m\n\u001b[1;32m    878\u001b[0m \u001b[43m            \u001b[49m\u001b[43mnewline\u001b[49m\u001b[38;5;241;43m=\u001b[39;49m\u001b[38;5;124;43m\"\u001b[39;49m\u001b[38;5;124;43m\"\u001b[39;49m\u001b[43m,\u001b[49m\n\u001b[1;32m    879\u001b[0m \u001b[43m        \u001b[49m\u001b[43m)\u001b[49m\n\u001b[1;32m    880\u001b[0m     \u001b[38;5;28;01melse\u001b[39;00m:\n\u001b[1;32m    881\u001b[0m         \u001b[38;5;66;03m# Binary mode\u001b[39;00m\n\u001b[1;32m    882\u001b[0m         handle \u001b[38;5;241m=\u001b[39m \u001b[38;5;28mopen\u001b[39m(handle, ioargs\u001b[38;5;241m.\u001b[39mmode)\n",
      "\u001b[0;31mFileNotFoundError\u001b[0m: [Errno 2] No such file or directory: '/home/shiftpub/Dynamic_AMM/inf_step_exp/mc_approach/mc_results/results_sigma0.006.csv'"
     ]
    }
   ],
   "source": [
    "import pandas as pd\n",
    "\n",
    "path = '/home/shiftpub/Dynamic_AMM/inf_step_exp/mc_approach/mc_results/results_sigma0.006.csv'\n",
    "df = pd.read_csv(path)\n",
    "\n",
    "print(df.head(10).to_markdown())\n"
   ]
  },
  {
   "cell_type": "code",
   "execution_count": null,
   "metadata": {},
   "outputs": [],
   "source": [
    "import sys\n",
    "sys.path.append('/home/shiftpub/Dynamic_AMM/inf_step_exp/mc_approach')\n",
    "\n",
    "from simulate import AMMSimulator\n",
    "\n",
    "sigma = 0.006\n",
    "gamma_values = [0.003]\n",
    "dt = 1/(365 * 24)\n",
    "steps = 10000\n",
    "seed = 0\n",
    "\n",
    "simulator = AMMSimulator(sigma=sigma, gamma_values=gamma_values, dt=dt, steps=steps)\n",
    "\n",
    "results = simulator.simulate_all_paths(seed=seed)\n",
    "\n",
    "from pprint import pprint\n",
    "\n",
    "pprint(results)"
   ]
  },
  {
   "cell_type": "code",
   "execution_count": null,
   "metadata": {},
   "outputs": [],
   "source": [
    "import numpy as np\n",
    "\n",
    "steps = 3\n",
    "num_seeds = 4\n",
    "sigmas = [0.1, 0.2]\n",
    "num_sigma = len(sigmas)\n",
    "\n",
    "\n",
    "\n",
    "\n",
    "\n",
    "t = np.tile(np.arange(1, steps+1) * dt, (num_seeds, 1))\n",
    "drift_term = np.zeros((num_sigma, num_seeds, steps))\n",
    "diffusion_term = np.zeros((num_sigma, num_seeds, steps))\n",
    "print(drift_term)\n",
    "for i, sigma in enumerate(sigmas):\n",
    "    drift_term[i, :, :] =  -0.5 * sigma**2 * t\n",
    "    diffusion_term[i, :, :] = sigma * np.sqrt(dt) * np.cumsum(Z, axis=1)\n",
    "print(drift_term)"
   ]
  }
 ],
 "metadata": {
  "kernelspec": {
   "display_name": "amm-env",
   "language": "python",
   "name": "python3"
  },
  "language_info": {
   "codemirror_mode": {
    "name": "ipython",
    "version": 3
   },
   "file_extension": ".py",
   "mimetype": "text/x-python",
   "name": "python",
   "nbconvert_exporter": "python",
   "pygments_lexer": "ipython3",
   "version": "3.9.21"
  }
 },
 "nbformat": 4,
 "nbformat_minor": 2
}
