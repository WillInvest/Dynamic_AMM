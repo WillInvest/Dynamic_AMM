{
 "cells": [
  {
   "cell_type": "code",
   "execution_count": 1,
   "metadata": {},
   "outputs": [
    {
     "name": "stdout",
     "output_type": "stream",
     "text": [
      "|    |   time_step |    price |    dis_x |   dis_y |   re_in_x |   re_in_y |   re_out_x |   re_out_y |   dis_in_fee |   dis_out_fee |   re_in_L |   re_out_L |   dis_L |\n",
      "|---:|------------:|---------:|---------:|--------:|----------:|----------:|-----------:|-----------:|-------------:|--------------:|----------:|-----------:|--------:|\n",
      "|  0 |           0 | 1        | 1000     |  1000   |    1000   |    1000   |     1000   |     1000   |   0          |    0          |      1000 |       1000 |    1000 |\n",
      "|  1 |           1 | 1.00013  | 1000     |  1000   |    1000   |    1000   |     1000   |     1000   |   0          |    0          |      1000 |       1000 |    1000 |\n",
      "|  2 |           2 | 0.999992 | 1000     |  1000   |    1000   |    1000   |     1000   |     1000   |   0          |    0          |      1000 |       1000 |    1000 |\n",
      "|  3 |           3 | 1.00068  | 1000     |  1000   |    1000   |    1000   |     1000   |     1000   |   0          |    0          |      1000 |       1000 |    1000 |\n",
      "|  4 |           4 | 1.00079  | 1000     |  1000   |    1000   |    1000   |     1000   |     1000   |   0          |    0          |      1000 |       1000 |    1000 |\n",
      "|  5 |           5 | 1.00021  | 1000     |  1000   |    1000   |    1000   |     1000   |     1000   |   0          |    0          |      1000 |       1000 |    1000 |\n",
      "|  6 |           6 | 1.0006   | 1000     |  1000   |    1000   |    1000   |     1000   |     1000   |   0          |    0          |      1000 |       1000 |    1000 |\n",
      "|  7 |           7 | 1.00199  | 1000     |  1000   |    1000   |    1000   |     1000   |     1000   |   0          |    0          |      1000 |       1000 |    1000 |\n",
      "|  8 |           8 | 1.00301  |  999.499 |  1000.5 |     999.5 |    1000.5 |      999.5 |     1000.5 |   0.00100435 |    0.00100486 |      1000 |       1000 |    1000 |\n",
      "|  9 |           9 | 1.00225  |  999.499 |  1000.5 |     999.5 |    1000.5 |      999.5 |     1000.5 |   0.00100435 |    0.00100486 |      1000 |       1000 |    1000 |\n"
     ]
    }
   ],
   "source": [
    "import sys\n",
    "sys.path.append('/home/shiftpub/Dynamic_AMM/inf_step_exp/mc_approach')\n",
    "from test_case import Test_Simulator\n",
    "from crazy_simulation import AMMSimulator\n",
    "import matplotlib.pyplot as plt\n",
    "\n",
    "sigma = 0.1\n",
    "gamma = 0.002\n",
    "dt = 1/(365 * 24)\n",
    "steps = 100\n",
    "seed = 0\n",
    "\n",
    "test_simulator = Test_Simulator(sigma=sigma, gamma=gamma, dt=dt, steps=steps, seed=seed)\n",
    "\n",
    "test_df = test_simulator.simulate()\n",
    "print(test_df.head(10).to_markdown())"
   ]
  },
  {
   "cell_type": "markdown",
   "metadata": {},
   "source": []
  },
  {
   "cell_type": "code",
   "execution_count": 2,
   "metadata": {},
   "outputs": [
    {
     "name": "stdout",
     "output_type": "stream",
     "text": [
      "|     |    time_step |      price |        dis_x |         dis_y |      re_in_x |       re_in_y |     re_out_x |      re_out_y |   dis_in_fee |   dis_out_fee |       re_in_L |      re_out_L |         dis_L |\n",
      "|----:|-------------:|-----------:|-------------:|--------------:|-------------:|--------------:|-------------:|--------------:|-------------:|--------------:|--------------:|--------------:|--------------:|\n",
      "| 100 | 100.00000000 | 1.00864473 | 994.93122932 | 1005.09459401 | 994.94078378 | 1005.10424607 | 994.94078941 | 1005.10425176 |   0.01924043 |    0.01925177 | 1000.00960314 | 1000.00960880 | 1000.00000000 |\n"
     ]
    }
   ],
   "source": [
    "print(test_df.tail(1).to_markdown(floatfmt=\".8f\"))"
   ]
  },
  {
   "cell_type": "code",
   "execution_count": 8,
   "metadata": {},
   "outputs": [
    {
     "name": "stdout",
     "output_type": "stream",
     "text": [
      "Combining 1 chunks...\n"
     ]
    },
    {
     "name": "stderr",
     "output_type": "stream",
     "text": [
      "Reading chunks: 100%|██████████| 1/1 [00:00<00:00, 1804.78it/s]\n"
     ]
    },
    {
     "name": "stdout",
     "output_type": "stream",
     "text": [
      "Combined data written to /home/shiftpub/Dynamic_AMM/inf_step_exp/mc_approach/jit_simulation_results/20250411_003229/simulation_results_combined.parquet\n",
      "Deleting individual chunk files...\n"
     ]
    },
    {
     "name": "stderr",
     "output_type": "stream",
     "text": [
      "Deleting chunks: 100%|██████████| 1/1 [00:00<00:00, 9300.01it/s]"
     ]
    },
    {
     "name": "stdout",
     "output_type": "stream",
     "text": [
      "Deleted 1 chunk files\n",
      "|    |      sigma |      gamma |   final_price |      final_x |       final_y |   final_xinc |    final_yinc |   final_xout |    final_yout |   fees_inc |   fees_out |\n",
      "|---:|-----------:|-----------:|--------------:|-------------:|--------------:|-------------:|--------------:|-------------:|--------------:|-----------:|-----------:|\n",
      "|  0 | 0.10000000 | 0.00200000 |    1.00864473 | 994.93122932 | 1005.09459401 | 994.94078378 | 1005.10424607 | 994.94078941 | 1005.10425176 | 0.01924043 | 0.01925177 |\n"
     ]
    },
    {
     "name": "stderr",
     "output_type": "stream",
     "text": [
      "\n"
     ]
    }
   ],
   "source": [
    "import sys\n",
    "sys.path.append('/home/shiftpub/Dynamic_AMM/inf_step_exp/mc_approach')\n",
    "from jit_simulate import AMMSimulator\n",
    "import pandas as pd\n",
    "\n",
    "sigma = 0.1\n",
    "gamma = 0.002\n",
    "dt = 1/(365 * 24)\n",
    "steps = 100\n",
    "seed = 0\n",
    "\n",
    "simulator = AMMSimulator(sigma_values=[sigma], gamma_values=[gamma], dt=dt, steps=steps, seed=seed, num_paths=1)\n",
    "results = simulator.jit_simulate()\n",
    "results_df = results.to_pandas()\n",
    "print(results_df.to_markdown(floatfmt=\".8f\"))"
   ]
  },
  {
   "cell_type": "code",
   "execution_count": 4,
   "metadata": {},
   "outputs": [
    {
     "name": "stdout",
     "output_type": "stream",
     "text": [
      "final_prices: [[0.99455468]], final_x: 1002.0718150919856, final_y: 997.9324684510805, fees_inc: 0.0189850925  , fees_out: 0.0189958269\n"
     ]
    }
   ],
   "source": [
    "import sys\n",
    "sys.path.append('/home/shiftpub/Dynamic_AMM/inf_step_exp/mc_approach')\n",
    "from jit_simulate import AMMSimulator\n",
    "\n",
    "\n",
    "sigma = 0.1\n",
    "gamma = 0.002\n",
    "dt = 1/(365 * 24)\n",
    "steps = 100\n",
    "seed = 0\n",
    "\n",
    "simulator = AMMSimulator(sigma_values=[sigma], gamma_values=[gamma], dt=dt, steps=steps, seed=seed, num_paths=1)\n",
    "\n",
    "\n",
    "prices = simulator.generate_prices()\n",
    "final_x, final_y, fees_inc, fees_out, final_prices = simulator.simulate_distribute_case()\n",
    "print(f\"final_prices: {final_prices}, final_x: {final_x[0,0,0]}, final_y: {final_y[0,0,0]}, fees_inc: {fees_inc[0,0,0]:.10f}  , fees_out: {fees_out[0,0,0]:.10f}\")"
   ]
  },
  {
   "cell_type": "code",
   "execution_count": 5,
   "metadata": {},
   "outputs": [
    {
     "name": "stdout",
     "output_type": "stream",
     "text": [
      "|    |   seed |   sigma |   gamma |   path_idx |      S_T |    dis_x |    dis_y |   re_inc_x |   re_inc_y |   re_out_x |   re_out_y |   dis_inc_fee |   dis_out_fee |   dis_vin |   dis_vout |   re_vin |   re_vout |\n",
      "|---:|-------:|--------:|--------:|-----------:|---------:|---------:|---------:|-----------:|-----------:|-----------:|-----------:|--------------:|--------------:|----------:|-----------:|---------:|----------:|\n",
      "|  0 |      0 |   0.006 |   0.003 |          0 | 1.00403  |  998.739 | 1001.26  |    998.747 |   1001.27  |    493.491 |    494.738 |    0.0163203  |    0.0163209  |   2004.05 |    2004.05 |  2004.05 |   990.219 |\n",
      "|  1 |      0 |   0.006 |   0.003 |          1 | 1.00194  |  998.221 | 1001.78  |    998.223 |   1001.79  |    801.895 |    804.756 |    0.00536338 |    0.0053636  |   2001.94 |    2001.94 |  2001.94 |  1608.21  |\n",
      "|  2 |      0 |   0.006 |   0.003 |          2 | 1.00172  |  999.048 | 1000.95  |    999.051 |   1000.96  |    755.823 |    757.263 |    0.00550967 |    0.00550985 |   2001.72 |    2001.72 |  2001.72 |  1514.38  |\n",
      "|  3 |      0 |   0.006 |   0.003 |          3 | 0.998047 | 1000.31  |  999.695 |   1000.31  |    999.699 |    681.344 |    680.928 |    0.00930447 |    0.00930482 |   1998.06 |    1998.06 |  1998.06 |  1360.94  |\n",
      "|  4 |      0 |   0.006 |   0.003 |          4 | 0.996894 | 1002.86  |  997.144 |   1002.87  |    997.149 |    676.967 |    673.106 |    0.0105735  |    0.0105739  |   1996.9  |    1996.9  |  1996.9  |  1347.97  |\n",
      "|  5 |      0 |   0.006 |   0.003 |          5 | 0.998571 | 1000.72  |  999.281 |   1000.72  |    999.284 |    768.529 |    767.424 |    0.00606153 |    0.00606176 |   1998.58 |    1998.58 |  1998.58 |  1534.86  |\n",
      "|  6 |      0 |   0.006 |   0.003 |          6 | 0.999244 |  999.801 | 1000.2   |    999.81  |   1000.21  |    416.368 |    416.534 |    0.0193867  |    0.0193874  |   1999.26 |    1999.26 |  1999.26 |   832.587 |\n",
      "|  7 |      0 |   0.006 |   0.003 |          7 | 0.996949 | 1001.2   |  998.805 |   1001.2   |    998.807 |    864.329 |    862.265 |    0.00358435 |    0.00358448 |   1996.95 |    1996.95 |  1996.95 |  1723.96  |\n",
      "|  8 |      0 |   0.006 |   0.003 |          8 | 0.998346 | 1000.73  |  999.275 |   1000.73  |    999.276 |    887.566 |    886.279 |    0.00261576 |    0.00261585 |   1998.35 |    1998.35 |  1998.35 |  1772.38  |\n",
      "|  9 |      0 |   0.006 |   0.003 |          9 | 0.998261 | 1002.1   |  997.903 |   1002.11  |    997.907 |    701.247 |    698.309 |    0.00789224 |    0.00789253 |   1998.27 |    1998.27 |  1998.27 |  1398.34  |\n"
     ]
    }
   ],
   "source": [
    "import pandas as pd\n",
    "\n",
    "path = '/home/shiftpub/Dynamic_AMM/inf_step_exp/mc_approach/mc_results/results_sigma0.006.csv'\n",
    "df = pd.read_csv(path)\n",
    "\n",
    "print(df.head(10).to_markdown())\n"
   ]
  },
  {
   "cell_type": "code",
   "execution_count": 6,
   "metadata": {},
   "outputs": [
    {
     "name": "stdout",
     "output_type": "stream",
     "text": [
      "shape of gamma_matrix: (10, 1)\n",
      "shape of re_inc_mask_upper: (10, 1)\n",
      "shape of gamma_matrix[re_inc_mask_upper]: (0,)\n",
      "shape of a_upper: (0,)\n",
      "shape of b_upper: (0,)\n",
      "shape of c_upper: (10, 0)\n",
      "shape of delta_y_upper: (10, 0)\n"
     ]
    },
    {
     "ename": "TypeError",
     "evalue": "NumPy boolean array indexing assignment requires a 0 or 1-dimensional input, input has 2 dimensions",
     "output_type": "error",
     "traceback": [
      "\u001b[0;31m---------------------------------------------------------------------------\u001b[0m",
      "\u001b[0;31mTypeError\u001b[0m                                 Traceback (most recent call last)",
      "Cell \u001b[0;32mIn[6], line 14\u001b[0m\n\u001b[1;32m     10\u001b[0m seed \u001b[38;5;241m=\u001b[39m \u001b[38;5;241m0\u001b[39m\n\u001b[1;32m     12\u001b[0m simulator \u001b[38;5;241m=\u001b[39m AMMSimulator(sigma\u001b[38;5;241m=\u001b[39msigma, gamma_values\u001b[38;5;241m=\u001b[39mgamma_values, dt\u001b[38;5;241m=\u001b[39mdt, steps\u001b[38;5;241m=\u001b[39msteps)\n\u001b[0;32m---> 14\u001b[0m results \u001b[38;5;241m=\u001b[39m \u001b[43msimulator\u001b[49m\u001b[38;5;241;43m.\u001b[39;49m\u001b[43msimulate_all_paths\u001b[49m\u001b[43m(\u001b[49m\u001b[43mseed\u001b[49m\u001b[38;5;241;43m=\u001b[39;49m\u001b[43mseed\u001b[49m\u001b[43m)\u001b[49m\n\u001b[1;32m     16\u001b[0m \u001b[38;5;28;01mfrom\u001b[39;00m\u001b[38;5;250m \u001b[39m\u001b[38;5;21;01mpprint\u001b[39;00m\u001b[38;5;250m \u001b[39m\u001b[38;5;28;01mimport\u001b[39;00m pprint\n\u001b[1;32m     18\u001b[0m pprint(results)\n",
      "File \u001b[0;32m~/Dynamic_AMM/inf_step_exp/mc_approach/simulate.py:429\u001b[0m, in \u001b[0;36mAMMSimulator.simulate_all_paths\u001b[0;34m(self, seed)\u001b[0m\n\u001b[1;32m    427\u001b[0m \u001b[38;5;28mprint\u001b[39m(\u001b[38;5;124mf\u001b[39m\u001b[38;5;124m\"\u001b[39m\u001b[38;5;124mshape of c_upper: \u001b[39m\u001b[38;5;132;01m{\u001b[39;00mre_in_c_upper\u001b[38;5;241m.\u001b[39mshape\u001b[38;5;132;01m}\u001b[39;00m\u001b[38;5;124m\"\u001b[39m)\n\u001b[1;32m    428\u001b[0m \u001b[38;5;28mprint\u001b[39m(\u001b[38;5;124mf\u001b[39m\u001b[38;5;124m\"\u001b[39m\u001b[38;5;124mshape of delta_y_upper: \u001b[39m\u001b[38;5;132;01m{\u001b[39;00mre_in_delta_y_upper\u001b[38;5;241m.\u001b[39mshape\u001b[38;5;132;01m}\u001b[39;00m\u001b[38;5;124m\"\u001b[39m)\n\u001b[0;32m--> 429\u001b[0m \u001b[43mre_inc_y_new\u001b[49m\u001b[43m[\u001b[49m\u001b[43mre_inc_mask_upper\u001b[49m\u001b[43m]\u001b[49m \u001b[38;5;241m=\u001b[39m re_inc_y[:, :, t][re_inc_mask_upper] \u001b[38;5;241m+\u001b[39m re_in_delta_y_upper\n\u001b[1;32m    430\u001b[0m re_inc_x_new[re_inc_mask_upper] \u001b[38;5;241m=\u001b[39m re_inc_y_new[re_inc_mask_upper] \u001b[38;5;241m/\u001b[39m ((\u001b[38;5;241m1\u001b[39m\u001b[38;5;241m-\u001b[39mgamma_matrix[re_inc_mask_upper]) \u001b[38;5;241m*\u001b[39m S1[re_inc_mask_upper])\n\u001b[1;32m    432\u001b[0m \u001b[38;5;66;03m# Lower threshold crossed\u001b[39;00m\n",
      "\u001b[0;31mTypeError\u001b[0m: NumPy boolean array indexing assignment requires a 0 or 1-dimensional input, input has 2 dimensions"
     ]
    }
   ],
   "source": [
    "import sys\n",
    "sys.path.append('/home/shiftpub/Dynamic_AMM/inf_step_exp/mc_approach')\n",
    "\n",
    "from simulate import AMMSimulator\n",
    "\n",
    "sigma = 0.006\n",
    "gamma_values = [0.003]\n",
    "dt = 1/(365 * 24)\n",
    "steps = 10000\n",
    "seed = 0\n",
    "\n",
    "simulator = AMMSimulator(sigma=sigma, gamma_values=gamma_values, dt=dt, steps=steps)\n",
    "\n",
    "results = simulator.simulate_all_paths(seed=seed)\n",
    "\n",
    "from pprint import pprint\n",
    "\n",
    "pprint(results)"
   ]
  },
  {
   "cell_type": "code",
   "execution_count": null,
   "metadata": {},
   "outputs": [],
   "source": [
    "import numpy as np\n",
    "\n",
    "steps = 3\n",
    "num_seeds = 4\n",
    "sigmas = [0.1, 0.2]\n",
    "num_sigma = len(sigmas)\n",
    "\n",
    "\n",
    "\n",
    "\n",
    "\n",
    "t = np.tile(np.arange(1, steps+1) * dt, (num_seeds, 1))\n",
    "drift_term = np.zeros((num_sigma, num_seeds, steps))\n",
    "diffusion_term = np.zeros((num_sigma, num_seeds, steps))\n",
    "print(drift_term)\n",
    "for i, sigma in enumerate(sigmas):\n",
    "    drift_term[i, :, :] =  -0.5 * sigma**2 * t\n",
    "    diffusion_term[i, :, :] = sigma * np.sqrt(dt) * np.cumsum(Z, axis=1)\n",
    "print(drift_term)"
   ]
  }
 ],
 "metadata": {
  "kernelspec": {
   "display_name": "amm-env",
   "language": "python",
   "name": "python3"
  },
  "language_info": {
   "codemirror_mode": {
    "name": "ipython",
    "version": 3
   },
   "file_extension": ".py",
   "mimetype": "text/x-python",
   "name": "python",
   "nbconvert_exporter": "python",
   "pygments_lexer": "ipython3",
   "version": "3.9.21"
  }
 },
 "nbformat": 4,
 "nbformat_minor": 2
}
