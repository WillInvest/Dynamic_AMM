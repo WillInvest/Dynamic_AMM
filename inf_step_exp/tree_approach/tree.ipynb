{
 "cells": [
  {
   "cell_type": "code",
   "execution_count": null,
   "metadata": {},
   "outputs": [],
   "source": [
    "from env.amm import AMM\n",
    "from env.oracle import OracleSimulator  \n",
    "from env.trader import Arbitrager\n",
    "\n",
    "\n",
    "oracle = OracleSimulator()"
   ]
  },
  {
   "cell_type": "code",
   "execution_count": 3,
   "metadata": {},
   "outputs": [
    {
     "name": "stdout",
     "output_type": "stream",
     "text": [
      "All possible paths and values for 3-step binary tree:\n",
      "\n",
      "Path notation: ↗ = Up (+1), ↘ = Down (-1)\n",
      "  Path  Step 0  Step 1  Step 2  Step 3\n",
      "0  ↘↘↘       0      -1      -2      -3\n",
      "1  ↘↘↗       0      -1      -2      -1\n",
      "2  ↘↗↘       0      -1       0      -1\n",
      "3  ↘↗↗       0      -1       0       1\n",
      "4  ↗↘↘       0       1       0      -1\n",
      "5  ↗↘↗       0       1       0       1\n",
      "6  ↗↗↘       0       1       2       1\n",
      "7  ↗↗↗       0       1       2       3\n",
      "\n",
      "Statistics:\n",
      "Total number of paths: 8\n",
      "Probability of each path: 0.125\n"
     ]
    }
   ],
   "source": [
    "import pandas as pd\n",
    "import numpy as np\n",
    "\n",
    "# Generate all possible paths for 3 steps\n",
    "def generate_paths(steps=3):\n",
    "    paths = []\n",
    "    values = []\n",
    "    \n",
    "    # Generate all combinations of up (+1) and down (-1)\n",
    "    for i in range(2**steps):\n",
    "        path = []\n",
    "        value = [0]  # Start at 0\n",
    "        # Convert number to binary and pad with zeros\n",
    "        binary = format(i, f'0{steps}b')\n",
    "        \n",
    "        # Create path string and calculate values\n",
    "        path_str = ''\n",
    "        current_value = 0\n",
    "        for bit in binary:\n",
    "            if bit == '1':\n",
    "                path_str += '↗'\n",
    "                current_value += 1\n",
    "            else:\n",
    "                path_str += '↘'\n",
    "                current_value -= 1\n",
    "            value.append(current_value)\n",
    "            \n",
    "        paths.append(path_str)\n",
    "        values.append(value)\n",
    "    \n",
    "    return paths, values\n",
    "\n",
    "# Generate paths and values\n",
    "paths, values = generate_paths()\n",
    "\n",
    "# Create DataFrame\n",
    "df = pd.DataFrame(values, columns=['Step 0', 'Step 1', 'Step 2', 'Step 3'])\n",
    "df.insert(0, 'Path', paths)\n",
    "\n",
    "# Display the table\n",
    "print(\"All possible paths and values for 3-step binary tree:\")\n",
    "print(\"\\nPath notation: ↗ = Up (+1), ↘ = Down (-1)\")\n",
    "print(df)\n",
    "\n",
    "# Print additional statistics\n",
    "print(\"\\nStatistics:\")\n",
    "print(f\"Total number of paths: {len(paths)}\")\n",
    "print(f\"Probability of each path: {1/len(paths):.3f}\")"
   ]
  },
  {
   "cell_type": "code",
   "execution_count": 12,
   "metadata": {},
   "outputs": [
    {
     "name": "stdout",
     "output_type": "stream",
     "text": [
      "-8.575667576895228\n",
      "p: (1.1999999999999997, 1.1928107999999997)\n"
     ]
    }
   ],
   "source": [
    "import sys\n",
    "import os\n",
    "sys.path.append('/home/shiftpub/Dynamic_AMM/')\n",
    "\n",
    "from env.amm import AMM\n",
    "def calculate_swap_size(x, y, s, f):\n",
    "    # p is higher than amm ask price\n",
    "    k = x * y\n",
    "    p = y / x\n",
    "    if s > p / (1-f):\n",
    "        dx = np.sqrt(k / (s * (1-f))) - x\n",
    "    elif s < p * (1-f):\n",
    "        dx = np.sqrt(k / (s * (1-f))) - x/(1-f)\n",
    "    else:\n",
    "        dx = 0\n",
    "    return dx\n",
    "\n",
    "amm = AMM(initial_lr=100, initial_ls=100)\n",
    "new_s = 1.2\n",
    "dr = calculate_swap_size(amm.ls, amm.lr, new_s, amm.f)\n",
    "print(dr)\n",
    "\n",
    "amm.swap(dr)\n",
    "print(f\"p: {amm.get_price()}\")\n",
    "\n",
    "\n",
    "    "
   ]
  }
 ],
 "metadata": {
  "kernelspec": {
   "display_name": "amm-env",
   "language": "python",
   "name": "python3"
  },
  "language_info": {
   "codemirror_mode": {
    "name": "ipython",
    "version": 3
   },
   "file_extension": ".py",
   "mimetype": "text/x-python",
   "name": "python",
   "nbconvert_exporter": "python",
   "pygments_lexer": "ipython3",
   "version": "3.9.21"
  }
 },
 "nbformat": 4,
 "nbformat_minor": 2
}
