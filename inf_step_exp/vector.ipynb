{
 "cells": [
  {
   "cell_type": "code",
   "execution_count": 1,
   "metadata": {},
   "outputs": [
    {
     "name": "stdout",
     "output_type": "stream",
     "text": [
      "states shape: torch.Size([100, 3])\n",
      "tensor([[1.1080e+00, 9.5000e+05, 1.0526e+06],\n",
      "        [1.1057e+00, 9.5101e+05, 1.0515e+06],\n",
      "        [1.1033e+00, 9.5202e+05, 1.0504e+06],\n",
      "        [1.1010e+00, 9.5303e+05, 1.0493e+06]], device='cuda:0')\n"
     ]
    }
   ],
   "source": [
    "import sys\n",
    "sys.path.append('/home/shiftpub/Dynamic_AMM/inf_step_exp')\n",
    "from vector_train import AMM\n",
    "import numpy as np\n",
    "\n",
    "distribute_amm = AMM(\n",
    "    L=1000000,\n",
    "    gamma=0.003,\n",
    "    sigma=0.5,\n",
    "    delta_t=1,\n",
    "    mu=0.0,\n",
    "    fee_model='distribute',\n",
    "    fee_source='incoming',\n",
    "    device='cuda'\n",
    ")\n",
    "\n",
    "states = distribute_amm.generate_training_data(num_samples=100)\n",
    "print(f\"states shape: {states.shape}\")\n",
    "print(states[:4])"
   ]
  },
  {
   "cell_type": "code",
   "execution_count": 2,
   "metadata": {},
   "outputs": [
    {
     "name": "stdout",
     "output_type": "stream",
     "text": [
      "states_np shape: (100, 3)\n",
      "p shape: (100,)\n",
      "x shape: (100,)\n",
      "y shape: (100,)\n",
      "[[1.10803324e+00 9.50000000e+05 1.05263158e+06]\n",
      " [1.10568073e+00 9.51010101e+05 1.05151354e+06]\n",
      " [1.10333570e+00 9.52020202e+05 1.05039788e+06]\n",
      " [1.10099813e+00 9.53030303e+05 1.04928458e+06]]\n"
     ]
    }
   ],
   "source": [
    "states_np = states.cpu().numpy()\n",
    "p = states_np[:, 0]\n",
    "x = states_np[:, 1]\n",
    "y = states_np[:, 2]\n",
    "print(f\"states_np shape: {states_np.shape}\")\n",
    "print(f\"p shape: {p.shape}\")\n",
    "print(f\"x shape: {x.shape}\")\n",
    "print(f\"y shape: {y.shape}\")\n",
    "print(states_np[:4])"
   ]
  },
  {
   "cell_type": "code",
   "execution_count": 3,
   "metadata": {},
   "outputs": [
    {
     "name": "stdout",
     "output_type": "stream",
     "text": [
      "log_p shape: (100,)\n",
      "log_p_mean shape: (100, 1)\n",
      "log_p_std shape: ()\n",
      "points shape: (500,)\n",
      "(100, 500)\n"
     ]
    }
   ],
   "source": [
    "mu = 0.0\n",
    "sigma = 0.5\n",
    "delta_t = 1\n",
    "\n",
    "log_p = np.log(p)\n",
    "print(f\"log_p shape: {log_p.shape}\")\n",
    "log_p_mean = log_p[:, np.newaxis] + (mu - 0.5 * sigma**2) * delta_t\n",
    "log_p_std = sigma * np.sqrt(delta_t)\n",
    "print(f\"log_p_mean shape: {log_p_mean.shape}\")\n",
    "print(f\"log_p_std shape: {log_p_std.shape}\")\n",
    "# Pre-compute quadrature points and weights once\n",
    "num_points = 500\n",
    "points, weights = np.polynomial.legendre.leggauss(num_points)\n",
    "print(f\"points shape: {points.shape}\")\n",
    "# points = points[np.newaxis, :]\n",
    "# print(f\"points shape: {points.shape}\")\n",
    "log_p_min = log_p_mean - 3 * log_p_std\n",
    "log_p_max = log_p_mean + 3 * log_p_std\n",
    "# log_p_points = 0.5 * (log_p_max - log_p_min) * points[np.newaxis, :] + 0.5 * (log_p_max + log_p_min)\n",
    "log_p_points = 0.5 * (log_p_max - log_p_min) * points + 0.5 * (log_p_max + log_p_min)\n",
    "\n",
    "print(log_p_points.shape)"
   ]
  },
  {
   "cell_type": "code",
   "execution_count": 4,
   "metadata": {},
   "outputs": [
    {
     "name": "stdout",
     "output_type": "stream",
     "text": [
      "transformed_weights shape: (100, 500)\n",
      "price_ratio shape: (100,)\n",
      "p_upper shape: (100,)\n",
      "p_lower shape: (100,)\n"
     ]
    }
   ],
   "source": [
    "gamma = 0.003\n",
    "transformed_weights = weights[np.newaxis, :] * 0.5 * (log_p_max - log_p_min)\n",
    "print(f\"transformed_weights shape: {transformed_weights.shape}\")\n",
    "price_ratio = y / x  # (batch_size,)\n",
    "p_upper = price_ratio / (1 - gamma)  # (batch_size,)\n",
    "p_lower = price_ratio * (1 - gamma)  # (batch_size,)\n",
    "\n",
    "print(f\"price_ratio shape: {price_ratio.shape}\")\n",
    "print(f\"p_upper shape: {p_upper.shape}\")\n",
    "print(f\"p_lower shape: {p_lower.shape}\")\n",
    "\n"
   ]
  },
  {
   "cell_type": "code",
   "execution_count": 5,
   "metadata": {},
   "outputs": [
    {
     "name": "stdout",
     "output_type": "stream",
     "text": [
      "p_points shape: (100, 500)\n",
      "p_upper shape: (100, 1)\n",
      "p_lower shape: (100, 1)\n",
      "(100, 500)\n",
      "(100, 500)\n",
      "(100, 500)\n"
     ]
    }
   ],
   "source": [
    "p_points = np.exp(log_p_points)\n",
    "print(f\"p_points shape: {p_points.shape}\")\n",
    "\n",
    "p_upper = p_upper[:, np.newaxis]\n",
    "p_lower = p_lower[:, np.newaxis]\n",
    "\n",
    "print(f\"p_upper shape: {p_upper.shape}\")\n",
    "print(f\"p_lower shape: {p_lower.shape}\")\n",
    "\n",
    "up_mask = p_points > p_upper\n",
    "down_mask = p_points < p_lower\n",
    "within_mask = ~(up_mask | down_mask)\n",
    "\n",
    "print(up_mask.shape)\n",
    "print(down_mask.shape)\n",
    "print(within_mask.shape)\n",
    "\n",
    "\n",
    "\n"
   ]
  },
  {
   "cell_type": "code",
   "execution_count": 7,
   "metadata": {},
   "outputs": [
    {
     "name": "stdout",
     "output_type": "stream",
     "text": [
      "original x shape: (100,)\n",
      "expanded x shape: (100, 1)\n",
      "repeated x shape: (100, 500)\n"
     ]
    }
   ],
   "source": [
    "print(f\"original x shape: {x.shape}\")\n",
    "print(f\"expanded x shape: {x[:, np.newaxis].shape}\")\n",
    "print(f\"repeated x shape: {x[:, np.newaxis].repeat(500, axis=1).shape}\")"
   ]
  },
  {
   "cell_type": "code",
   "execution_count": 23,
   "metadata": {},
   "outputs": [
    {
     "name": "stdout",
     "output_type": "stream",
     "text": [
      "(3, 6)\n",
      "[[1 2 3 4 5 6]\n",
      " [1 2 3 4 5 6]\n",
      " [1 2 3 4 5 6]]\n",
      "(3, 1)\n",
      "[[10]\n",
      " [20]\n",
      " [30]]\n",
      "[[ -9  -8  -7  -6  -5  -4]\n",
      " [-19 -18 -17 -16 -15 -14]\n",
      " [-29 -28 -27 -26 -25 -24]]\n"
     ]
    }
   ],
   "source": [
    "a = np.array([1, 2, 3, 4, 5, 6])\n",
    "a = a[np.newaxis,:].repeat(3, axis=0)\n",
    "print(a.shape)\n",
    "print(a)\n",
    "\n",
    "b = np.array([10, 20, 30])[:, np.newaxis]\n",
    "print(b.shape)\n",
    "print(b)\n",
    "print(a - b)\n",
    "\n",
    "\n",
    "\n"
   ]
  }
 ],
 "metadata": {
  "kernelspec": {
   "display_name": "amm-env",
   "language": "python",
   "name": "python3"
  },
  "language_info": {
   "codemirror_mode": {
    "name": "ipython",
    "version": 3
   },
   "file_extension": ".py",
   "mimetype": "text/x-python",
   "name": "python",
   "nbconvert_exporter": "python",
   "pygments_lexer": "ipython3",
   "version": "3.9.21"
  }
 },
 "nbformat": 4,
 "nbformat_minor": 2
}
